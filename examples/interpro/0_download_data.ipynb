{
 "cells": [
  {
   "cell_type": "code",
   "execution_count": null,
   "id": "583ff47b-9209-4f05-b5e6-92d195eb38a1",
   "metadata": {},
   "outputs": [],
   "source": [
    "import sys\n",
    "import requests\n",
    "import threading\n",
    "\n",
    "import boto3\n",
    "from boto3.s3.transfer import TransferConfig\n",
    "from tqdm.auto import tqdm"
   ]
  },
  {
   "cell_type": "markdown",
   "id": "0f059759-7ce5-4da9-b0d4-f796ea45cf48",
   "metadata": {},
   "source": [
    "# Defines"
   ]
  },
  {
   "cell_type": "code",
   "execution_count": null,
   "id": "217c2b60-fdda-4217-a3c4-ecdc65a74030",
   "metadata": {},
   "outputs": [],
   "source": [
    "bucket = \"\"  # Output bucket"
   ]
  },
  {
   "cell_type": "code",
   "execution_count": null,
   "id": "28a65c17-8106-480d-9c6d-b0025cc32f06",
   "metadata": {},
   "outputs": [],
   "source": [
    "s3 = boto3.client(\"s3\")"
   ]
  },
  {
   "cell_type": "code",
   "execution_count": null,
   "id": "a9ce4abf-f23b-42ed-9490-c410fbaed083",
   "metadata": {},
   "outputs": [],
   "source": [
    "class ProgressPercentage(object):\n",
    "\n",
    "    def __init__(self, file):\n",
    "        self._filename = \"filename\"\n",
    "        self._size = int(file.headers.get('Content-Length', 0))\n",
    "        self._seen_so_far = 0\n",
    "        self._lock = threading.Lock()\n",
    "\n",
    "    def __call__(self, bytes_amount):\n",
    "        # To simplify, assume this is hooked up to a single filename\n",
    "        with self._lock:\n",
    "            self._seen_so_far += bytes_amount\n",
    "            percentage = (self._seen_so_far / self._size) * 100\n",
    "            sys.stdout.write(\n",
    "                \"\\r%s  %s / %s  (%.2f%%)\" % (\n",
    "                    self._filename, self._seen_so_far, self._size,\n",
    "                    percentage))\n",
    "            sys.stdout.flush()"
   ]
  },
  {
   "cell_type": "markdown",
   "id": "2ef2f02e-7ac9-4cba-ac74-dfb67e69b75e",
   "metadata": {},
   "source": [
    "# `match_complete` file"
   ]
  },
  {
   "cell_type": "code",
   "execution_count": null,
   "id": "5a5a215c-6a4d-40bf-a9c3-0a771fe7a1c5",
   "metadata": {},
   "outputs": [],
   "source": [
    "url = \"https://ftp.ebi.ac.uk/pub/databases/interpro/current_release/match_complete.xml.gz\"\n",
    "key = \"interpro/raw/match_complete.xml.gz\""
   ]
  },
  {
   "cell_type": "code",
   "execution_count": null,
   "id": "b7a15e98-6ad7-49b3-a5f9-28559e6534fa",
   "metadata": {},
   "outputs": [],
   "source": [
    "with requests.get(url, stream=True) as r:\n",
    "    r.raise_for_status()\n",
    "\n",
    "    file_size = int(r.headers.get('Content-Length', 0))\n",
    "    part_size = file_size // 5000\n",
    "\n",
    "    s3.upload_fileobj(\n",
    "        r.raw, bucket, key,\n",
    "        Callback=ProgressPercentage(r),\n",
    "        Config=TransferConfig(multipart_chunksize=part_size)\n",
    "    )"
   ]
  },
  {
   "cell_type": "markdown",
   "id": "80175df1-dddf-46d8-a059-d1ef6fc71cf4",
   "metadata": {},
   "source": [
    "# `protein2ipr.dat.gz` file\n",
    "All UniProtKB proteins and the InterPro entries and individual signatures they match, in a tab-delimited format."
   ]
  },
  {
   "cell_type": "code",
   "execution_count": null,
   "id": "18e608bc-0677-4ad5-9a49-be5d47a60606",
   "metadata": {},
   "outputs": [],
   "source": [
    "url = \"https://ftp.ebi.ac.uk/pub/databases/interpro/current_release/protein2ipr.dat.gz\"\n",
    "key = \"interpro/raw/protein2ipr.dat.gz\""
   ]
  },
  {
   "cell_type": "code",
   "execution_count": null,
   "id": "ba53b3f5-e697-4f17-a6d3-e68351da2556",
   "metadata": {},
   "outputs": [],
   "source": [
    "with requests.get(url, stream=True) as r:\n",
    "    r.raise_for_status()\n",
    "\n",
    "    file_size = int(r.headers.get('Content-Length', 0))\n",
    "    part_size = file_size // 5000\n",
    "\n",
    "    s3.upload_fileobj(\n",
    "        r.raw, bucket, key,\n",
    "        Callback=ProgressPercentage(r),\n",
    "        Config=TransferConfig(multipart_chunksize=part_size)\n",
    "    )"
   ]
  }
 ],
 "metadata": {
  "kernelspec": {
   "display_name": "Python 3 (ipykernel)",
   "language": "python",
   "name": "python3"
  },
  "language_info": {
   "codemirror_mode": {
    "name": "ipython",
    "version": 3
   },
   "file_extension": ".py",
   "mimetype": "text/x-python",
   "name": "python",
   "nbconvert_exporter": "python",
   "pygments_lexer": "ipython3",
   "version": "3.11.11"
  }
 },
 "nbformat": 4,
 "nbformat_minor": 5
}
